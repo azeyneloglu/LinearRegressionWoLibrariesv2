{
 "cells": [
  {
   "cell_type": "code",
   "execution_count": 1,
   "metadata": {},
   "outputs": [],
   "source": [
    "import numpy as np\n",
    "import pandas as pd\n",
    "import matplotlib.pyplot as plt\n",
    "import seaborn as sns"
   ]
  },
  {
   "cell_type": "code",
   "execution_count": 28,
   "metadata": {},
   "outputs": [],
   "source": [
    "from scipy.stats import f\n",
    "from scipy.stats import t"
   ]
  },
  {
   "cell_type": "code",
   "execution_count": 4,
   "metadata": {},
   "outputs": [],
   "source": [
    "#q3.27\n",
    "temp_list = [20.8, 20.9, 21.0, 21.9, 22.1, 22.1, 22.4, 22.5, 24.8, 24.8, 25.0, 34.0, 34.0, 34.1, 42.7, 42.7, 42.7, 49.9, 50.1, 50.1, 22.5, 23.1, 23.0]\n",
    "pressure_list = [25366, 25356, 25336, 25256, 25267, 25306, 25237, 25267, 25138, 25148, 25143, 24731, 24751, 24771, 24424, 24444, 24419, 24417, 24102, 24092, 25202, 25157,25157]\n",
    "data_dict = {'Temperature' : temp_list, 'Pressure': pressure_list}\n",
    "\n",
    "data = pd.DataFrame(data_dict)\n"
   ]
  },
  {
   "cell_type": "code",
   "execution_count": 5,
   "metadata": {},
   "outputs": [
    {
     "data": {
      "text/html": [
       "<div>\n",
       "<style scoped>\n",
       "    .dataframe tbody tr th:only-of-type {\n",
       "        vertical-align: middle;\n",
       "    }\n",
       "\n",
       "    .dataframe tbody tr th {\n",
       "        vertical-align: top;\n",
       "    }\n",
       "\n",
       "    .dataframe thead th {\n",
       "        text-align: right;\n",
       "    }\n",
       "</style>\n",
       "<table border=\"1\" class=\"dataframe\">\n",
       "  <thead>\n",
       "    <tr style=\"text-align: right;\">\n",
       "      <th></th>\n",
       "      <th>Temperature</th>\n",
       "      <th>Pressure</th>\n",
       "    </tr>\n",
       "  </thead>\n",
       "  <tbody>\n",
       "    <tr>\n",
       "      <th>0</th>\n",
       "      <td>20.8</td>\n",
       "      <td>25366</td>\n",
       "    </tr>\n",
       "    <tr>\n",
       "      <th>1</th>\n",
       "      <td>20.9</td>\n",
       "      <td>25356</td>\n",
       "    </tr>\n",
       "    <tr>\n",
       "      <th>2</th>\n",
       "      <td>21.0</td>\n",
       "      <td>25336</td>\n",
       "    </tr>\n",
       "    <tr>\n",
       "      <th>3</th>\n",
       "      <td>21.9</td>\n",
       "      <td>25256</td>\n",
       "    </tr>\n",
       "    <tr>\n",
       "      <th>4</th>\n",
       "      <td>22.1</td>\n",
       "      <td>25267</td>\n",
       "    </tr>\n",
       "    <tr>\n",
       "      <th>5</th>\n",
       "      <td>22.1</td>\n",
       "      <td>25306</td>\n",
       "    </tr>\n",
       "    <tr>\n",
       "      <th>6</th>\n",
       "      <td>22.4</td>\n",
       "      <td>25237</td>\n",
       "    </tr>\n",
       "    <tr>\n",
       "      <th>7</th>\n",
       "      <td>22.5</td>\n",
       "      <td>25267</td>\n",
       "    </tr>\n",
       "    <tr>\n",
       "      <th>8</th>\n",
       "      <td>24.8</td>\n",
       "      <td>25138</td>\n",
       "    </tr>\n",
       "    <tr>\n",
       "      <th>9</th>\n",
       "      <td>24.8</td>\n",
       "      <td>25148</td>\n",
       "    </tr>\n",
       "    <tr>\n",
       "      <th>10</th>\n",
       "      <td>25.0</td>\n",
       "      <td>25143</td>\n",
       "    </tr>\n",
       "    <tr>\n",
       "      <th>11</th>\n",
       "      <td>34.0</td>\n",
       "      <td>24731</td>\n",
       "    </tr>\n",
       "    <tr>\n",
       "      <th>12</th>\n",
       "      <td>34.0</td>\n",
       "      <td>24751</td>\n",
       "    </tr>\n",
       "    <tr>\n",
       "      <th>13</th>\n",
       "      <td>34.1</td>\n",
       "      <td>24771</td>\n",
       "    </tr>\n",
       "    <tr>\n",
       "      <th>14</th>\n",
       "      <td>42.7</td>\n",
       "      <td>24424</td>\n",
       "    </tr>\n",
       "    <tr>\n",
       "      <th>15</th>\n",
       "      <td>42.7</td>\n",
       "      <td>24444</td>\n",
       "    </tr>\n",
       "    <tr>\n",
       "      <th>16</th>\n",
       "      <td>42.7</td>\n",
       "      <td>24419</td>\n",
       "    </tr>\n",
       "    <tr>\n",
       "      <th>17</th>\n",
       "      <td>49.9</td>\n",
       "      <td>24417</td>\n",
       "    </tr>\n",
       "    <tr>\n",
       "      <th>18</th>\n",
       "      <td>50.1</td>\n",
       "      <td>24102</td>\n",
       "    </tr>\n",
       "    <tr>\n",
       "      <th>19</th>\n",
       "      <td>50.1</td>\n",
       "      <td>24092</td>\n",
       "    </tr>\n",
       "    <tr>\n",
       "      <th>20</th>\n",
       "      <td>22.5</td>\n",
       "      <td>25202</td>\n",
       "    </tr>\n",
       "    <tr>\n",
       "      <th>21</th>\n",
       "      <td>23.1</td>\n",
       "      <td>25157</td>\n",
       "    </tr>\n",
       "    <tr>\n",
       "      <th>22</th>\n",
       "      <td>23.0</td>\n",
       "      <td>25157</td>\n",
       "    </tr>\n",
       "  </tbody>\n",
       "</table>\n",
       "</div>"
      ],
      "text/plain": [
       "    Temperature  Pressure\n",
       "0          20.8     25366\n",
       "1          20.9     25356\n",
       "2          21.0     25336\n",
       "3          21.9     25256\n",
       "4          22.1     25267\n",
       "5          22.1     25306\n",
       "6          22.4     25237\n",
       "7          22.5     25267\n",
       "8          24.8     25138\n",
       "9          24.8     25148\n",
       "10         25.0     25143\n",
       "11         34.0     24731\n",
       "12         34.0     24751\n",
       "13         34.1     24771\n",
       "14         42.7     24424\n",
       "15         42.7     24444\n",
       "16         42.7     24419\n",
       "17         49.9     24417\n",
       "18         50.1     24102\n",
       "19         50.1     24092\n",
       "20         22.5     25202\n",
       "21         23.1     25157\n",
       "22         23.0     25157"
      ]
     },
     "execution_count": 5,
     "metadata": {},
     "output_type": "execute_result"
    }
   ],
   "source": [
    "data"
   ]
  },
  {
   "cell_type": "code",
   "execution_count": 9,
   "metadata": {},
   "outputs": [
    {
     "data": {
      "text/plain": [
       "<AxesSubplot:xlabel='Temperature', ylabel='Pressure'>"
      ]
     },
     "execution_count": 9,
     "metadata": {},
     "output_type": "execute_result"
    },
    {
     "data": {
      "image/png": "[encoded data removed]",
      "text/plain": [
       "<Figure size 432x288 with 1 Axes>"
      ]
     },
     "metadata": {
      "needs_background": "light"
     },
     "output_type": "display_data"
    }
   ],
   "source": [
    "#a\n",
    "sns.scatterplot(data=data, x=\"Temperature\", y=\"Pressure\")"
   ]
  },
  {
   "cell_type": "code",
   "execution_count": 13,
   "metadata": {},
   "outputs": [],
   "source": [
    "def computeSxx(x):\n",
    "    \n",
    "    x_bar = x.mean()\n",
    "    x_diff = x - x_bar\n",
    "    \n",
    "    return np.sum(x_diff**2)\n",
    "    "
   ]
  },
  {
   "cell_type": "code",
   "execution_count": 14,
   "metadata": {},
   "outputs": [],
   "source": [
    "def computeSyy(y):\n",
    "    \n",
    "    y_bar = y.mean()\n",
    "    y_diff = y -y_bar\n",
    "    \n",
    "    return np.sum(y_diff**2)\n",
    "    "
   ]
  },
  {
   "cell_type": "code",
   "execution_count": 15,
   "metadata": {},
   "outputs": [],
   "source": [
    "def computeSxy(x,y):\n",
    "    \n",
    "    x_bar = x.mean()\n",
    "    x_diff = x - x_bar\n",
    "    \n",
    "    y_bar = y.mean()\n",
    "    y_diff = y -y_bar\n",
    "    \n",
    "    \n",
    "    return np.sum(x_diff * y_diff)"
   ]
  },
  {
   "cell_type": "code",
   "execution_count": 21,
   "metadata": {},
   "outputs": [],
   "source": [
    "#returns least squares solutions to a and b\n",
    "def computeCoefficients(x,y):\n",
    "    \n",
    "    sxx = computeSxx(x)\n",
    "    sxy = computeSxy(x,y)\n",
    "    \n",
    "    x_bar = x.mean()\n",
    "    y_bar = y.mean()\n",
    "    \n",
    "    b_hat = sxy / sxx\n",
    "    a_hat = y_bar - (b_hat*x_bar)\n",
    "    \n",
    "    return a_hat,b_hat\n",
    "    \n",
    "    \n",
    "    "
   ]
  },
  {
   "cell_type": "code",
   "execution_count": 26,
   "metadata": {},
   "outputs": [],
   "source": [
    "def partitionTss(x,y):\n",
    "    \n",
    "    x_bar = x.mean()\n",
    "    y_bar = y.mean()\n",
    "    \n",
    "    a_hat, b_hat = computeCoefficients(x, y)\n",
    "    y_hat = a_hat + (b_hat*x)\n",
    "    \n",
    "    tss = np.sum((y-y_bar)**2)\n",
    "    regss = np.sum((y_hat-y_bar)**2)\n",
    "    rss = np.sum((y-y_hat)**2)\n",
    "    \n",
    "    return tss, regss, rss"
   ]
  },
  {
   "cell_type": "code",
   "execution_count": 24,
   "metadata": {},
   "outputs": [],
   "source": [
    "def calculateR (regss,tss):\n",
    "    \n",
    "    return regss/tss"
   ]
  },
  {
   "cell_type": "code",
   "execution_count": 12,
   "metadata": {},
   "outputs": [],
   "source": [
    "x_bar = data.Temperature.mean()\n",
    "y_bar = data.Pressure.mean()"
   ]
  },
  {
   "cell_type": "code",
   "execution_count": 16,
   "metadata": {},
   "outputs": [],
   "source": [
    "Sxx = computeSxx(data['Temperature'])\n",
    "Syy = computeSyy(data['Pressure'])\n",
    "Sxy = computeSxy(data['Temperature'], data['Pressure'])"
   ]
  },
  {
   "cell_type": "code",
   "execution_count": 27,
   "metadata": {},
   "outputs": [
    {
     "data": {
      "text/plain": [
       "0.975180891883555"
      ]
     },
     "execution_count": 27,
     "metadata": {},
     "output_type": "execute_result"
    }
   ],
   "source": [
    "tss, regss, rss = partitionTss(data['Temperature'], data['Pressure'])\n",
    "R = calculateR (regss,tss)\n",
    "R"
   ]
  },
  {
   "cell_type": "code",
   "execution_count": 29,
   "metadata": {},
   "outputs": [
    {
     "data": {
      "text/html": [
       "<div>\n",
       "<style scoped>\n",
       "    .dataframe tbody tr th:only-of-type {\n",
       "        vertical-align: middle;\n",
       "    }\n",
       "\n",
       "    .dataframe tbody tr th {\n",
       "        vertical-align: top;\n",
       "    }\n",
       "\n",
       "    .dataframe thead th {\n",
       "        text-align: right;\n",
       "    }\n",
       "</style>\n",
       "<table border=\"1\" class=\"dataframe\">\n",
       "  <thead>\n",
       "    <tr style=\"text-align: right;\">\n",
       "      <th></th>\n",
       "      <th>x_bar</th>\n",
       "      <th>Y_bar</th>\n",
       "      <th>Sxx</th>\n",
       "      <th>Sxy</th>\n",
       "      <th>Syy</th>\n",
       "      <th>R</th>\n",
       "    </tr>\n",
       "  </thead>\n",
       "  <tbody>\n",
       "    <tr>\n",
       "      <th>1</th>\n",
       "      <td>30.313043</td>\n",
       "      <td>24934.217391</td>\n",
       "      <td>2519.286087</td>\n",
       "      <td>-98128.965217</td>\n",
       "      <td>3.919510e+06</td>\n",
       "      <td>0.975181</td>\n",
       "    </tr>\n",
       "  </tbody>\n",
       "</table>\n",
       "</div>"
      ],
      "text/plain": [
       "       x_bar         Y_bar          Sxx           Sxy           Syy         R\n",
       "1  30.313043  24934.217391  2519.286087 -98128.965217  3.919510e+06  0.975181"
      ]
     },
     "execution_count": 29,
     "metadata": {},
     "output_type": "execute_result"
    }
   ],
   "source": [
    "#b\n",
    "data_q1 = {'x_bar':x_bar, 'Y_bar':y_bar, 'Sxx': Sxx, 'Sxy': Sxy, 'Syy': Syy, 'R':R }\n",
    "q1_result = pd.DataFrame(data_q1,index = [1])\n",
    "q1_result"
   ]
  },
  {
   "cell_type": "code",
   "execution_count": 44,
   "metadata": {},
   "outputs": [],
   "source": [
    "x = data.iloc[:, :-1].values\n",
    "y = data.iloc[:, 1].values"
   ]
  },
  {
   "cell_type": "code",
   "execution_count": 45,
   "metadata": {},
   "outputs": [
    {
     "data": {
      "text/plain": [
       "LinearRegression()"
      ]
     },
     "execution_count": 45,
     "metadata": {},
     "output_type": "execute_result"
    }
   ],
   "source": [
    "from sklearn.linear_model import LinearRegression\n",
    "lin_reg = LinearRegression()\n",
    "lin_reg.fit(x,y)"
   ]
  },
  {
   "cell_type": "code",
   "execution_count": 47,
   "metadata": {},
   "outputs": [
    {
     "data": {
      "text/plain": [
       "0.9751808918835558"
      ]
     },
     "execution_count": 47,
     "metadata": {},
     "output_type": "execute_result"
    }
   ],
   "source": [
    "#Sanity Check\n",
    "#it is the same as the manual solution\n",
    "lin_reg.score(x, y)"
   ]
  },
  {
   "cell_type": "code",
   "execution_count": 49,
   "metadata": {},
   "outputs": [
    {
     "name": "stdout",
     "output_type": "stream",
     "text": [
      "a_hat:  26114.94379014897\n",
      "b_hat:  -38.95110036349151\n"
     ]
    }
   ],
   "source": [
    "#c\n",
    "a_hat, b_hat = computeCoefficients(data['Temperature'], data['Pressure'])\n",
    "print('a_hat: ', a_hat)\n",
    "print('b_hat: ', b_hat)\n"
   ]
  },
  {
   "cell_type": "code",
   "execution_count": 274,
   "metadata": {},
   "outputs": [],
   "source": [
    "def estimateSigma2(x,y,a_hat,b_hat):\n",
    "    \n",
    "    n = x.shape[0]\n",
    "    err = Y - (a_hat - b_hat*X)\n",
    "    return np.sum(err**2)/n"
   ]
  },
  {
   "cell_type": "code",
   "execution_count": 275,
   "metadata": {},
   "outputs": [
    {
     "name": "stdout",
     "output_type": "stream",
     "text": [
      "sigma^2:  1151780884.5009363\n"
     ]
    }
   ],
   "source": [
    "sigma2 = estimateSigma2(data['Temperature'],data['Pressure'],a_hat,b_hat)\n",
    "print('sigma^2: ', sigma2)"
   ]
  },
  {
   "cell_type": "code",
   "execution_count": 50,
   "metadata": {},
   "outputs": [],
   "source": [
    "def computeYhat(x,y):\n",
    "    \n",
    "    x_bar = x.mean()\n",
    "    y_bar = y.mean()\n",
    "    \n",
    "    a_hat, b_hat = computeCoefficients(x, y)\n",
    "    y_hat = a_hat + (b_hat*x)\n",
    "    \n",
    "    return y_hat"
   ]
  },
  {
   "cell_type": "code",
   "execution_count": 77,
   "metadata": {},
   "outputs": [],
   "source": [
    "def computeS(x,y):\n",
    "    \n",
    "    n = y.size\n",
    "    y_hat = computeYhat(x,y)\n",
    "    e = np.sum((y_hat-y)**2)\n",
    "    \n",
    "    S = (1/(n-2))*e\n",
    "    \n",
    "    return np.sqrt(S)\n",
    "    \n",
    "    "
   ]
  },
  {
   "cell_type": "code",
   "execution_count": 22,
   "metadata": {},
   "outputs": [],
   "source": [
    "from scipy.stats import t\n",
    "def ttest(b_hat, y, S, Sxx, alpha):\n",
    "    \n",
    "    n = y.size\n",
    "    \n",
    "    # upper and lower bounds\n",
    "    lb = b_hat - (t.ppf(1- (alpha/2),n) * (S/np.sqrt(Sxx)))\n",
    "    ub = b_hat + (t.ppf(1-(alpha/2),n) * (S/np.sqrt(Sxx)))\n",
    "  \n",
    "    return pd.DataFrame(np.array([n,b_hat,lb,ub]).reshape(1,-1),\n",
    "                         columns=['df','b_hat','lb','ub'])"
   ]
  },
  {
   "cell_type": "code",
   "execution_count": 78,
   "metadata": {},
   "outputs": [],
   "source": [
    "S = computeS(data['Temperature'], data['Pressure'])"
   ]
  },
  {
   "cell_type": "code",
   "execution_count": 79,
   "metadata": {},
   "outputs": [
    {
     "data": {
      "text/html": [
       "<div>\n",
       "<style scoped>\n",
       "    .dataframe tbody tr th:only-of-type {\n",
       "        vertical-align: middle;\n",
       "    }\n",
       "\n",
       "    .dataframe tbody tr th {\n",
       "        vertical-align: top;\n",
       "    }\n",
       "\n",
       "    .dataframe thead th {\n",
       "        text-align: right;\n",
       "    }\n",
       "</style>\n",
       "<table border=\"1\" class=\"dataframe\">\n",
       "  <thead>\n",
       "    <tr style=\"text-align: right;\">\n",
       "      <th></th>\n",
       "      <th>df</th>\n",
       "      <th>b_hat</th>\n",
       "      <th>lb</th>\n",
       "      <th>ub</th>\n",
       "    </tr>\n",
       "  </thead>\n",
       "  <tbody>\n",
       "    <tr>\n",
       "      <th>0</th>\n",
       "      <td>23.0</td>\n",
       "      <td>-38.9511</td>\n",
       "      <td>-41.275115</td>\n",
       "      <td>-36.627086</td>\n",
       "    </tr>\n",
       "  </tbody>\n",
       "</table>\n",
       "</div>"
      ],
      "text/plain": [
       "     df    b_hat         lb         ub\n",
       "0  23.0 -38.9511 -41.275115 -36.627086"
      ]
     },
     "execution_count": 79,
     "metadata": {},
     "output_type": "execute_result"
    }
   ],
   "source": [
    "#d\n",
    "ttest(b_hat, data['Pressure'], S, Sxx, 0.1)"
   ]
  },
  {
   "cell_type": "code",
   "execution_count": null,
   "metadata": {},
   "outputs": [],
   "source": [
    "e#Since -40 lies in the confidence interval, we will accept the null hypothesis b=-40."
   ]
  },
  {
   "cell_type": "code",
   "execution_count": 281,
   "metadata": {},
   "outputs": [],
   "source": [
    "from scipy.stats import f\n",
    "def scheffe_test (a_hat,b_hat,x_train,x_test,S,Sxx,alpha):\n",
    "    \n",
    "    n = x_train.size\n",
    "    x_train_bar = x_train.mean()\n",
    "\n",
    "    f_score = np.sqrt( 2 * (f.isf(0.1,2,n-2)))\n",
    "    lb = []\n",
    "    ub = []\n",
    "    \n",
    "    for x in x_test:\n",
    "        \n",
    "        y_hat = a_hat + (b_hat*x)\n",
    "        pooled_se = S * np.sqrt(1/n + ((x - x_train_bar)**2)/Sxx)\n",
    "        lb.append(y_hat - f_score*pooled_se)\n",
    "        ub.append(y_hat + f_score*pooled_se)\n",
    "        \n",
    "        \n",
    "    return lb,ub"
   ]
  },
  {
   "cell_type": "code",
   "execution_count": 282,
   "metadata": {},
   "outputs": [],
   "source": [
    "x_test = np.array([i for i in range(20,51)])\n",
    "lower_bound, upper_bound = scheffe_test(a_hat,b_hat,data['Temperature'],x_test,S,Sxx,alpha=0.1)\n"
   ]
  },
  {
   "cell_type": "code",
   "execution_count": 283,
   "metadata": {},
   "outputs": [
    {
     "data": {
      "text/plain": [
       "<matplotlib.legend.Legend at 0x1a1ca3d750>"
      ]
     },
     "execution_count": 283,
     "metadata": {},
     "output_type": "execute_result"
    },
    {
     "data": {
      "image/png": "[encoded data removed]",
      "text/plain": [
       "<Figure size 648x360 with 1 Axes>"
      ]
     },
     "metadata": {
      "needs_background": "light"
     },
     "output_type": "display_data"
    }
   ],
   "source": [
    "plt.figure(figsize=(9,5))\n",
    "plt. plot(x_test, lower_bound, label = \"lb\")\n",
    "plt. plot(x_test, upper_bound, label = \"ub\")\n",
    "plt.scatter(data['Temperature'], data['Pressure'],c='g', label='observed')\n",
    "plt.legend()"
   ]
  },
  {
   "cell_type": "code",
   "execution_count": 284,
   "metadata": {},
   "outputs": [],
   "source": [
    "# QUESTION 3.34"
   ]
  },
  {
   "cell_type": "code",
   "execution_count": 2,
   "metadata": {},
   "outputs": [],
   "source": [
    "df = pd.read_excel('q34.xlsx')"
   ]
  },
  {
   "cell_type": "code",
   "execution_count": 3,
   "metadata": {},
   "outputs": [
    {
     "data": {
      "text/html": [
       "<div>\n",
       "<style scoped>\n",
       "    .dataframe tbody tr th:only-of-type {\n",
       "        vertical-align: middle;\n",
       "    }\n",
       "\n",
       "    .dataframe tbody tr th {\n",
       "        vertical-align: top;\n",
       "    }\n",
       "\n",
       "    .dataframe thead th {\n",
       "        text-align: right;\n",
       "    }\n",
       "</style>\n",
       "<table border=\"1\" class=\"dataframe\">\n",
       "  <thead>\n",
       "    <tr style=\"text-align: right;\">\n",
       "      <th></th>\n",
       "      <th>Height</th>\n",
       "      <th>Weight</th>\n",
       "      <th>Distance</th>\n",
       "    </tr>\n",
       "  </thead>\n",
       "  <tbody>\n",
       "    <tr>\n",
       "      <th>0</th>\n",
       "      <td>42.8</td>\n",
       "      <td>40.0</td>\n",
       "      <td>37.0</td>\n",
       "    </tr>\n",
       "    <tr>\n",
       "      <th>1</th>\n",
       "      <td>63.5</td>\n",
       "      <td>93.5</td>\n",
       "      <td>49.5</td>\n",
       "    </tr>\n",
       "    <tr>\n",
       "      <th>2</th>\n",
       "      <td>37.5</td>\n",
       "      <td>35.5</td>\n",
       "      <td>34.5</td>\n",
       "    </tr>\n",
       "    <tr>\n",
       "      <th>3</th>\n",
       "      <td>39.5</td>\n",
       "      <td>30.0</td>\n",
       "      <td>36.0</td>\n",
       "    </tr>\n",
       "    <tr>\n",
       "      <th>4</th>\n",
       "      <td>45.5</td>\n",
       "      <td>52.0</td>\n",
       "      <td>43.0</td>\n",
       "    </tr>\n",
       "    <tr>\n",
       "      <th>5</th>\n",
       "      <td>38.5</td>\n",
       "      <td>17.0</td>\n",
       "      <td>28.0</td>\n",
       "    </tr>\n",
       "    <tr>\n",
       "      <th>6</th>\n",
       "      <td>43.0</td>\n",
       "      <td>38.5</td>\n",
       "      <td>37.0</td>\n",
       "    </tr>\n",
       "    <tr>\n",
       "      <th>7</th>\n",
       "      <td>22.5</td>\n",
       "      <td>8.5</td>\n",
       "      <td>20.0</td>\n",
       "    </tr>\n",
       "    <tr>\n",
       "      <th>8</th>\n",
       "      <td>37.0</td>\n",
       "      <td>33.0</td>\n",
       "      <td>33.5</td>\n",
       "    </tr>\n",
       "    <tr>\n",
       "      <th>9</th>\n",
       "      <td>23.5</td>\n",
       "      <td>9.5</td>\n",
       "      <td>30.5</td>\n",
       "    </tr>\n",
       "    <tr>\n",
       "      <th>10</th>\n",
       "      <td>33.0</td>\n",
       "      <td>21.0</td>\n",
       "      <td>38.5</td>\n",
       "    </tr>\n",
       "    <tr>\n",
       "      <th>11</th>\n",
       "      <td>58.0</td>\n",
       "      <td>79.0</td>\n",
       "      <td>47.0</td>\n",
       "    </tr>\n",
       "  </tbody>\n",
       "</table>\n",
       "</div>"
      ],
      "text/plain": [
       "    Height  Weight  Distance\n",
       "0     42.8    40.0      37.0\n",
       "1     63.5    93.5      49.5\n",
       "2     37.5    35.5      34.5\n",
       "3     39.5    30.0      36.0\n",
       "4     45.5    52.0      43.0\n",
       "5     38.5    17.0      28.0\n",
       "6     43.0    38.5      37.0\n",
       "7     22.5     8.5      20.0\n",
       "8     37.0    33.0      33.5\n",
       "9     23.5     9.5      30.5\n",
       "10    33.0    21.0      38.5\n",
       "11    58.0    79.0      47.0"
      ]
     },
     "execution_count": 3,
     "metadata": {},
     "output_type": "execute_result"
    }
   ],
   "source": [
    "df"
   ]
  },
  {
   "cell_type": "code",
   "execution_count": 4,
   "metadata": {},
   "outputs": [
    {
     "data": {
      "text/plain": [
       "[0     42.8\n",
       " 1     63.5\n",
       " 2     37.5\n",
       " 3     39.5\n",
       " 4     45.5\n",
       " 5     38.5\n",
       " 6     43.0\n",
       " 7     22.5\n",
       " 8     37.0\n",
       " 9     23.5\n",
       " 10    33.0\n",
       " 11    58.0\n",
       " Name: Height, dtype: float64,\n",
       " 0     40.0\n",
       " 1     93.5\n",
       " 2     35.5\n",
       " 3     30.0\n",
       " 4     52.0\n",
       " 5     17.0\n",
       " 6     38.5\n",
       " 7      8.5\n",
       " 8     33.0\n",
       " 9      9.5\n",
       " 10    21.0\n",
       " 11    79.0\n",
       " Name: Weight, dtype: float64]"
      ]
     },
     "execution_count": 4,
     "metadata": {},
     "output_type": "execute_result"
    }
   ],
   "source": [
    "x1 = df.Height\n",
    "x2 = df.Weight\n",
    "\n",
    "xs = [x1,x2]\n",
    "xs"
   ]
  },
  {
   "cell_type": "code",
   "execution_count": 5,
   "metadata": {},
   "outputs": [],
   "source": [
    "def constructDesignMatrix (predictors):\n",
    "    \n",
    "    n = xs[0].size\n",
    "    \n",
    "    x0 = np.ones(12).reshape(-1,1)\n",
    "    \n",
    "    cnt = 0\n",
    "    for predictor in predictors:\n",
    "        \n",
    "        if cnt == 0:\n",
    "            \n",
    "            x = np.hstack((x0, np.asarray(predictor).reshape(-1,1)))\n",
    "            \n",
    "        else:\n",
    "            \n",
    "            x = np.hstack((x,np.asarray(predictor).reshape(-1,1)))\n",
    "            \n",
    "        cnt += 1\n",
    "        \n",
    "    return x\n",
    "    "
   ]
  },
  {
   "cell_type": "code",
   "execution_count": 6,
   "metadata": {},
   "outputs": [],
   "source": [
    "def computeBhat (X,Y):\n",
    "    \n",
    "    return np.dot( (np.linalg.inv(np.dot(X.T,X))), (np.dot(X.T,Y)) )\n",
    "    "
   ]
  },
  {
   "cell_type": "code",
   "execution_count": 7,
   "metadata": {},
   "outputs": [],
   "source": [
    "def computeHatMatrix(X):\n",
    "    \n",
    "    return np.dot( (np.dot(X, (np.linalg.inv(np.dot(X.T,X))))), X.T)"
   ]
  },
  {
   "cell_type": "code",
   "execution_count": 8,
   "metadata": {},
   "outputs": [],
   "source": [
    "def compute_e(X,Y):\n",
    "    \n",
    "    hat_matrix = computeHatMatrix(X)\n",
    "    \n",
    "    Y_hat = np.dot(hat_matrix,Y)\n",
    "    e = Y - Y_hat\n",
    "    \n",
    "    return e"
   ]
  },
  {
   "cell_type": "code",
   "execution_count": 17,
   "metadata": {},
   "outputs": [],
   "source": [
    "def computeSe2 (X,Y):\n",
    "    \n",
    "    n=X.shape[0]\n",
    "    k = X.shape[1] - 1\n",
    "    hat_matrix = computeHatMatrix(X)\n",
    "    \n",
    "    Y_hat = np.dot(hat_matrix,Y)\n",
    "    \n",
    "    e = Y - Y_hat\n",
    "    rss = np.sum(e**2)\n",
    "    \n",
    "    se2 = rss / (n-k-1)\n",
    "    return se2\n",
    "    \n",
    "    \n",
    "    \n",
    "    \n",
    "    "
   ]
  },
  {
   "cell_type": "code",
   "execution_count": 10,
   "metadata": {},
   "outputs": [
    {
     "data": {
      "text/plain": [
       "array([[ 1. , 42.8, 40. ],\n",
       "       [ 1. , 63.5, 93.5],\n",
       "       [ 1. , 37.5, 35.5],\n",
       "       [ 1. , 39.5, 30. ],\n",
       "       [ 1. , 45.5, 52. ],\n",
       "       [ 1. , 38.5, 17. ],\n",
       "       [ 1. , 43. , 38.5],\n",
       "       [ 1. , 22.5,  8.5],\n",
       "       [ 1. , 37. , 33. ],\n",
       "       [ 1. , 23.5,  9.5],\n",
       "       [ 1. , 33. , 21. ],\n",
       "       [ 1. , 58. , 79. ]])"
      ]
     },
     "execution_count": 10,
     "metadata": {},
     "output_type": "execute_result"
    }
   ],
   "source": [
    "X = constructDesignMatrix (xs)\n",
    "X"
   ]
  },
  {
   "cell_type": "code",
   "execution_count": 11,
   "metadata": {},
   "outputs": [],
   "source": [
    "Y = np.asarray(df.Distance).reshape(-1,1)"
   ]
  },
  {
   "cell_type": "code",
   "execution_count": 14,
   "metadata": {},
   "outputs": [
    {
     "data": {
      "text/plain": [
       "array([[21.00839777],\n",
       "       [ 0.19635663],\n",
       "       [ 0.19082778]])"
      ]
     },
     "execution_count": 14,
     "metadata": {},
     "output_type": "execute_result"
    }
   ],
   "source": [
    "#a\n",
    "Bhat = computeBhat (X,Y)\n",
    "Bhat"
   ]
  },
  {
   "cell_type": "code",
   "execution_count": 18,
   "metadata": {},
   "outputs": [
    {
     "data": {
      "text/plain": [
       "15.545892971673668"
      ]
     },
     "execution_count": 18,
     "metadata": {},
     "output_type": "execute_result"
    }
   ],
   "source": [
    "se2 = computeSe2 (X,Y)\n",
    "se2"
   ]
  },
  {
   "cell_type": "code",
   "execution_count": 175,
   "metadata": {},
   "outputs": [
    {
     "data": {
      "text/plain": [
       "array([[-0.04557287],\n",
       "       [-1.81944142],\n",
       "       [-0.6461577 ],\n",
       "       [ 1.51068183],\n",
       "       [ 3.13433086],\n",
       "       [-3.81220039],\n",
       "       [ 0.20139748],\n",
       "       [-7.04845814],\n",
       "       [-1.07090993],\n",
       "       [ 3.06435745],\n",
       "       [ 7.00444996],\n",
       "       [-0.47247712]])"
      ]
     },
     "execution_count": 175,
     "metadata": {},
     "output_type": "execute_result"
    }
   ],
   "source": [
    "e = compute_e(X,Y)\n",
    "e"
   ]
  },
  {
   "cell_type": "code",
   "execution_count": 176,
   "metadata": {},
   "outputs": [
    {
     "data": {
      "text/plain": [
       "11.659419728755253"
      ]
     },
     "execution_count": 176,
     "metadata": {},
     "output_type": "execute_result"
    }
   ],
   "source": [
    "e.var()"
   ]
  },
  {
   "cell_type": "code",
   "execution_count": 177,
   "metadata": {},
   "outputs": [
    {
     "data": {
      "text/plain": [
       "(12, 3)"
      ]
     },
     "execution_count": 177,
     "metadata": {},
     "output_type": "execute_result"
    }
   ],
   "source": [
    "X.shape"
   ]
  },
  {
   "cell_type": "code",
   "execution_count": 312,
   "metadata": {},
   "outputs": [],
   "source": [
    "#b and c"
   ]
  },
  {
   "cell_type": "code",
   "execution_count": 285,
   "metadata": {},
   "outputs": [],
   "source": [
    "from scipy.stats import t"
   ]
  },
  {
   "cell_type": "code",
   "execution_count": 23,
   "metadata": {},
   "outputs": [],
   "source": [
    "def simultaneousConfidenceIntervals_withBonf(X,Y,Bhat,se2,alpha):\n",
    "\n",
    "    n = X.shape[0]\n",
    "    k = X.shape[1] - 1\n",
    "    xtx_inv = np.linalg.inv (np.dot(X.T,X))\n",
    "    se = np.sqrt(se2)\n",
    "    \n",
    "  \n",
    "    t_score = t.ppf(1- (alpha/(2*(k+1))),n-k-1)\n",
    "    \n",
    "    confidence_intervals_bonf = []\n",
    "    \n",
    "    for i in range(0,len(Bhat)):\n",
    "        \n",
    "        margin_of_error = t_score * se * np.sqrt(xtx_inv[i][i]) \n",
    "        \n",
    "        upper_bound = Bhat[i][0] + margin_of_error \n",
    "        lower_bound = Bhat[i][0] - margin_of_error\n",
    "        \n",
    "        confidence_intervals_bonf.append([upper_bound,lower_bound])\n",
    "        \n",
    "    \n",
    "    return confidence_intervals_bonf\n",
    "    \n",
    "    "
   ]
  },
  {
   "cell_type": "code",
   "execution_count": 24,
   "metadata": {},
   "outputs": [],
   "source": [
    "sim_confidence_intervals_with_bonf = simultaneousConfidenceIntervals_withBonf(X,Y,Bhat,se2,alpha=0.1)"
   ]
  },
  {
   "cell_type": "code",
   "execution_count": 25,
   "metadata": {},
   "outputs": [
    {
     "data": {
      "text/html": [
       "<div>\n",
       "<style scoped>\n",
       "    .dataframe tbody tr th:only-of-type {\n",
       "        vertical-align: middle;\n",
       "    }\n",
       "\n",
       "    .dataframe tbody tr th {\n",
       "        vertical-align: top;\n",
       "    }\n",
       "\n",
       "    .dataframe thead th {\n",
       "        text-align: right;\n",
       "    }\n",
       "</style>\n",
       "<table border=\"1\" class=\"dataframe\">\n",
       "  <thead>\n",
       "    <tr style=\"text-align: right;\">\n",
       "      <th></th>\n",
       "      <th>UpperBound</th>\n",
       "      <th>LowerBound</th>\n",
       "    </tr>\n",
       "  </thead>\n",
       "  <tbody>\n",
       "    <tr>\n",
       "      <th>B0</th>\n",
       "      <td>42.970186</td>\n",
       "      <td>-0.953391</td>\n",
       "    </tr>\n",
       "    <tr>\n",
       "      <th>B1</th>\n",
       "      <td>1.101275</td>\n",
       "      <td>-0.708562</td>\n",
       "    </tr>\n",
       "    <tr>\n",
       "      <th>B2</th>\n",
       "      <td>0.605321</td>\n",
       "      <td>-0.223666</td>\n",
       "    </tr>\n",
       "  </tbody>\n",
       "</table>\n",
       "</div>"
      ],
      "text/plain": [
       "    UpperBound  LowerBound\n",
       "B0   42.970186   -0.953391\n",
       "B1    1.101275   -0.708562\n",
       "B2    0.605321   -0.223666"
      ]
     },
     "execution_count": 25,
     "metadata": {},
     "output_type": "execute_result"
    }
   ],
   "source": [
    "sim_conf_df_with_bonf = pd.DataFrame(data = sim_confidence_intervals_with_bonf, columns = ['UpperBound', 'LowerBound'], index = ['B0','B1','B2'] )\n",
    "sim_conf_df_with_bonf"
   ]
  },
  {
   "cell_type": "code",
   "execution_count": 29,
   "metadata": {},
   "outputs": [],
   "source": [
    "def simultaneousConfidenceIntervals (X,Y,Bhat,se2,alpha):\n",
    "    \n",
    "    n = X.shape[0]\n",
    "    k = X.shape[1] - 1\n",
    "    xtx_inv = np.linalg.inv (np.dot(X.T,X))\n",
    "    se = np.sqrt(se2)\n",
    "    \n",
    "    f_score = np.sqrt( (k+1) *(f.isf(alpha,k+1,n-k-1)))\n",
    "    \n",
    "    confidence_intervals = []\n",
    "    \n",
    "    for i in range(0,len(Bhat)):\n",
    "        \n",
    "        margin_of_error = f_score * se * np.sqrt(xtx_inv[i][i])\n",
    "        \n",
    "        upper_bound = Bhat[i][0] + margin_of_error \n",
    "        lower_bound = Bhat[i][0] - margin_of_error\n",
    "        \n",
    "        confidence_intervals.append([upper_bound,lower_bound])\n",
    "        \n",
    "    \n",
    "    return confidence_intervals\n",
    "    \n",
    "    \n",
    "    \n",
    "    "
   ]
  },
  {
   "cell_type": "code",
   "execution_count": 30,
   "metadata": {},
   "outputs": [],
   "source": [
    "sim_confidence_intervals = simultaneousConfidenceIntervals (X,Y,Bhat,se2,alpha=0.1)"
   ]
  },
  {
   "cell_type": "code",
   "execution_count": 31,
   "metadata": {},
   "outputs": [
    {
     "data": {
      "text/html": [
       "<div>\n",
       "<style scoped>\n",
       "    .dataframe tbody tr th:only-of-type {\n",
       "        vertical-align: middle;\n",
       "    }\n",
       "\n",
       "    .dataframe tbody tr th {\n",
       "        vertical-align: top;\n",
       "    }\n",
       "\n",
       "    .dataframe thead th {\n",
       "        text-align: right;\n",
       "    }\n",
       "</style>\n",
       "<table border=\"1\" class=\"dataframe\">\n",
       "  <thead>\n",
       "    <tr style=\"text-align: right;\">\n",
       "      <th></th>\n",
       "      <th>UpperBound</th>\n",
       "      <th>LowerBound</th>\n",
       "    </tr>\n",
       "  </thead>\n",
       "  <tbody>\n",
       "    <tr>\n",
       "      <th>B0</th>\n",
       "      <td>46.429850</td>\n",
       "      <td>-4.413054</td>\n",
       "    </tr>\n",
       "    <tr>\n",
       "      <th>B1</th>\n",
       "      <td>1.243828</td>\n",
       "      <td>-0.851114</td>\n",
       "    </tr>\n",
       "    <tr>\n",
       "      <th>B2</th>\n",
       "      <td>0.670617</td>\n",
       "      <td>-0.288961</td>\n",
       "    </tr>\n",
       "  </tbody>\n",
       "</table>\n",
       "</div>"
      ],
      "text/plain": [
       "    UpperBound  LowerBound\n",
       "B0   46.429850   -4.413054\n",
       "B1    1.243828   -0.851114\n",
       "B2    0.670617   -0.288961"
      ]
     },
     "execution_count": 31,
     "metadata": {},
     "output_type": "execute_result"
    }
   ],
   "source": [
    "sim_conf_df = pd.DataFrame(data = sim_confidence_intervals, columns = ['UpperBound', 'LowerBound'], index = ['B0','B1','B2'] )\n",
    "sim_conf_df"
   ]
  },
  {
   "cell_type": "code",
   "execution_count": 32,
   "metadata": {},
   "outputs": [
    {
     "data": {
      "text/plain": [
       "1.8098365379531565"
      ]
     },
     "execution_count": 32,
     "metadata": {},
     "output_type": "execute_result"
    }
   ],
   "source": [
    "np.subtract(sim_conf_df_with_bonf.iloc[1,:].values[0],sim_conf_df_with_bonf.iloc[1,:].values[1])"
   ]
  },
  {
   "cell_type": "code",
   "execution_count": 33,
   "metadata": {},
   "outputs": [
    {
     "data": {
      "text/plain": [
       "2.0949419976746664"
      ]
     },
     "execution_count": 33,
     "metadata": {},
     "output_type": "execute_result"
    }
   ],
   "source": [
    "np.subtract(sim_conf_df.iloc[1,:].values[0],sim_conf_df.iloc[1,:].values[1])"
   ]
  },
  {
   "cell_type": "markdown",
   "metadata": {},
   "source": [
    "Result from the Bonferonni corecction provided narrower intervals (1.8 above for B1 whereas it is 2.09 for the f statistic)."
   ]
  },
  {
   "cell_type": "code",
   "execution_count": 34,
   "metadata": {},
   "outputs": [
    {
     "data": {
      "text/html": [
       "<div>\n",
       "<style scoped>\n",
       "    .dataframe tbody tr th:only-of-type {\n",
       "        vertical-align: middle;\n",
       "    }\n",
       "\n",
       "    .dataframe tbody tr th {\n",
       "        vertical-align: top;\n",
       "    }\n",
       "\n",
       "    .dataframe thead th {\n",
       "        text-align: right;\n",
       "    }\n",
       "</style>\n",
       "<table border=\"1\" class=\"dataframe\">\n",
       "  <thead>\n",
       "    <tr style=\"text-align: right;\">\n",
       "      <th></th>\n",
       "      <th>UpperBound</th>\n",
       "      <th>LowerBound</th>\n",
       "    </tr>\n",
       "  </thead>\n",
       "  <tbody>\n",
       "    <tr>\n",
       "      <th>B1</th>\n",
       "      <td>1.101275</td>\n",
       "      <td>-0.708562</td>\n",
       "    </tr>\n",
       "    <tr>\n",
       "      <th>B2</th>\n",
       "      <td>0.605321</td>\n",
       "      <td>-0.223666</td>\n",
       "    </tr>\n",
       "  </tbody>\n",
       "</table>\n",
       "</div>"
      ],
      "text/plain": [
       "    UpperBound  LowerBound\n",
       "B1    1.101275   -0.708562\n",
       "B2    0.605321   -0.223666"
      ]
     },
     "execution_count": 34,
     "metadata": {},
     "output_type": "execute_result"
    }
   ],
   "source": [
    "#this also constructs the confidence region limits for b\n",
    "sim_conf_df_with_bonf.iloc[1:,:]"
   ]
  },
  {
   "cell_type": "code",
   "execution_count": 206,
   "metadata": {},
   "outputs": [],
   "source": [
    "def computeRSS (X,Y):\n",
    "    \n",
    "    X_hat = computeHatMatrix(X)\n",
    "    Y_hat = np.dot(X_hat,Y)\n",
    "    \n",
    "    return np.sum((Y - Y_hat)**2)\n",
    "    "
   ]
  },
  {
   "cell_type": "code",
   "execution_count": 205,
   "metadata": {},
   "outputs": [],
   "source": [
    "def computeRegSS (X,Y):\n",
    "    \n",
    "    X_hat = computeHatMatrix(X)\n",
    "    Y_hat = np.dot(X_hat,Y)\n",
    "    \n",
    "    return np.sum((Y_hat - Y.mean())**2)\n",
    "    \n",
    "    "
   ]
  },
  {
   "cell_type": "code",
   "execution_count": 240,
   "metadata": {},
   "outputs": [],
   "source": [
    "def NoRegressionatAll (RegSS, RSS, X, alpha):\n",
    "    \n",
    "    n = X.shape[0]\n",
    "    k = X.shape[1] - 1\n",
    "    \n",
    "    f_score = f.isf((alpha),k,n-k-1)\n",
    "    \n",
    "    result = (RegSS/k) / (RSS/(n-k-1))\n",
    "    \n",
    "    return result,f_score\n",
    "    \n",
    "    \n",
    "    \n",
    "    "
   ]
  },
  {
   "cell_type": "code",
   "execution_count": 208,
   "metadata": {},
   "outputs": [],
   "source": [
    "RSS = computeRSS (X,Y)\n",
    "RegSS = computeRegSS (X,Y)"
   ]
  },
  {
   "cell_type": "code",
   "execution_count": 241,
   "metadata": {},
   "outputs": [
    {
     "data": {
      "text/plain": [
       "(18.61636803290464, 3.0064524174002636)"
      ]
     },
     "execution_count": 241,
     "metadata": {},
     "output_type": "execute_result"
    }
   ],
   "source": [
    "#d\n",
    "#It is clear from the below result that, our f statistic lies in the critical region, thus we accpect the\n",
    "#alternative hypothesis -> there is a linear regression\n",
    "\n",
    "NoRegressionatAll (RegSS, RSS, X, alpha=0.1)"
   ]
  },
  {
   "cell_type": "code",
   "execution_count": 262,
   "metadata": {},
   "outputs": [],
   "source": [
    "def testingPartofB (X,Y,which_predictor,alpha):\n",
    "    \n",
    "    X_reduced = X[:,which_predictor].reshape(-1,1)\n",
    "    n = X.shape[0]\n",
    "    k = X.shape[1] - 1\n",
    "    m=X_reduced.shape[1]\n",
    "    \n",
    "    RegSS_reduced = computeRegSS (X_reduced,Y)\n",
    "    RSS_full = computeRegSS (X,Y)\n",
    "    \n",
    "    f_score = f.isf((alpha),k-1,n-k-1)\n",
    "    result = ((RegSS_reduced / (k-m)) / (RSS_full/ (n-k-1)))\n",
    "    \n",
    "    return result, f_score\n",
    "    "
   ]
  },
  {
   "cell_type": "code",
   "execution_count": 263,
   "metadata": {},
   "outputs": [
    {
     "data": {
      "text/plain": [
       "(76.02199451092588, 3.36030302387155)"
      ]
     },
     "execution_count": 263,
     "metadata": {},
     "output_type": "execute_result"
    }
   ],
   "source": [
    "#e\n",
    "#It is clear from the below result that, weight lies in the critical region, thus we\n",
    "# REJECT the null hypothesisthat weight does not depend on distance.\n",
    "testingPartofB(X,Y,which_predictor=2,alpha=0.1)"
   ]
  },
  {
   "cell_type": "code",
   "execution_count": null,
   "metadata": {},
   "outputs": [],
   "source": []
  }
 ],
 "metadata": {
  "kernelspec": {
   "display_name": "Python 3",
   "language": "python",
   "name": "python3"
  },
  "language_info": {
   "codemirror_mode": {
    "name": "ipython",
    "version": 3
   },
   "file_extension": ".py",
   "mimetype": "text/x-python",
   "name": "python",
   "nbconvert_exporter": "python",
   "pygments_lexer": "ipython3",
   "version": "3.7.4"
  }
 },
 "nbformat": 4,
 "nbformat_minor": 4
}
